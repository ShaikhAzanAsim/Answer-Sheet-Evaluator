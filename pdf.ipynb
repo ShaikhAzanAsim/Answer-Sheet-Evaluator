{
  "nbformat": 4,
  "nbformat_minor": 0,
  "metadata": {
    "colab": {
      "provenance": []
    },
    "kernelspec": {
      "name": "python3",
      "display_name": "Python 3"
    },
    "language_info": {
      "name": "python"
    }
  },
  "cells": [
    {
      "cell_type": "code",
      "source": [
        "!pip install python-dotenv # install the missing dotenv module"
      ],
      "metadata": {
        "colab": {
          "base_uri": "https://localhost:8080/"
        },
        "id": "TIajeDoPfFMT",
        "outputId": "586108c5-4c4e-449c-e3f9-6f10e46afd64"
      },
      "execution_count": 4,
      "outputs": [
        {
          "output_type": "stream",
          "name": "stdout",
          "text": [
            "Collecting python-dotenv\n",
            "  Downloading python_dotenv-1.0.1-py3-none-any.whl.metadata (23 kB)\n",
            "Downloading python_dotenv-1.0.1-py3-none-any.whl (19 kB)\n",
            "Installing collected packages: python-dotenv\n",
            "Successfully installed python-dotenv-1.0.1\n"
          ]
        }
      ]
    },
    {
      "cell_type": "code",
      "source": [
        "!pip install groq"
      ],
      "metadata": {
        "colab": {
          "base_uri": "https://localhost:8080/"
        },
        "id": "c56H-BYHfJCR",
        "outputId": "72748219-64f3-425b-9f24-430e037243ce"
      },
      "execution_count": 5,
      "outputs": [
        {
          "output_type": "stream",
          "name": "stdout",
          "text": [
            "Collecting groq\n",
            "  Downloading groq-0.13.0-py3-none-any.whl.metadata (13 kB)\n",
            "Requirement already satisfied: anyio<5,>=3.5.0 in /usr/local/lib/python3.10/dist-packages (from groq) (3.7.1)\n",
            "Requirement already satisfied: distro<2,>=1.7.0 in /usr/local/lib/python3.10/dist-packages (from groq) (1.9.0)\n",
            "Requirement already satisfied: httpx<1,>=0.23.0 in /usr/local/lib/python3.10/dist-packages (from groq) (0.27.2)\n",
            "Requirement already satisfied: pydantic<3,>=1.9.0 in /usr/local/lib/python3.10/dist-packages (from groq) (2.9.2)\n",
            "Requirement already satisfied: sniffio in /usr/local/lib/python3.10/dist-packages (from groq) (1.3.1)\n",
            "Requirement already satisfied: typing-extensions<5,>=4.7 in /usr/local/lib/python3.10/dist-packages (from groq) (4.12.2)\n",
            "Requirement already satisfied: idna>=2.8 in /usr/local/lib/python3.10/dist-packages (from anyio<5,>=3.5.0->groq) (3.10)\n",
            "Requirement already satisfied: exceptiongroup in /usr/local/lib/python3.10/dist-packages (from anyio<5,>=3.5.0->groq) (1.2.2)\n",
            "Requirement already satisfied: certifi in /usr/local/lib/python3.10/dist-packages (from httpx<1,>=0.23.0->groq) (2024.8.30)\n",
            "Requirement already satisfied: httpcore==1.* in /usr/local/lib/python3.10/dist-packages (from httpx<1,>=0.23.0->groq) (1.0.7)\n",
            "Requirement already satisfied: h11<0.15,>=0.13 in /usr/local/lib/python3.10/dist-packages (from httpcore==1.*->httpx<1,>=0.23.0->groq) (0.14.0)\n",
            "Requirement already satisfied: annotated-types>=0.6.0 in /usr/local/lib/python3.10/dist-packages (from pydantic<3,>=1.9.0->groq) (0.7.0)\n",
            "Requirement already satisfied: pydantic-core==2.23.4 in /usr/local/lib/python3.10/dist-packages (from pydantic<3,>=1.9.0->groq) (2.23.4)\n",
            "Downloading groq-0.13.0-py3-none-any.whl (108 kB)\n",
            "\u001b[2K   \u001b[90m━━━━━━━━━━━━━━━━━━━━━━━━━━━━━━━━━━━━━━━━\u001b[0m \u001b[32m108.8/108.8 kB\u001b[0m \u001b[31m2.7 MB/s\u001b[0m eta \u001b[36m0:00:00\u001b[0m\n",
            "\u001b[?25hInstalling collected packages: groq\n",
            "Successfully installed groq-0.13.0\n"
          ]
        }
      ]
    },
    {
      "cell_type": "code",
      "source": [
        "!pip install pdf2image"
      ],
      "metadata": {
        "colab": {
          "base_uri": "https://localhost:8080/"
        },
        "id": "ZjYPMd3qfUd_",
        "outputId": "4593412a-424f-45a4-9a99-17b031f4d5e4"
      },
      "execution_count": 2,
      "outputs": [
        {
          "output_type": "stream",
          "name": "stdout",
          "text": [
            "Collecting pdf2image\n",
            "  Downloading pdf2image-1.17.0-py3-none-any.whl.metadata (6.2 kB)\n",
            "Requirement already satisfied: pillow in /usr/local/lib/python3.10/dist-packages (from pdf2image) (11.0.0)\n",
            "Downloading pdf2image-1.17.0-py3-none-any.whl (11 kB)\n",
            "Installing collected packages: pdf2image\n",
            "Successfully installed pdf2image-1.17.0\n"
          ]
        }
      ]
    },
    {
      "cell_type": "code",
      "source": [
        "!apt-get update\n",
        "!apt-get install poppler-utils"
      ],
      "metadata": {
        "colab": {
          "base_uri": "https://localhost:8080/"
        },
        "id": "BuuAr86uoHFM",
        "outputId": "44956fe1-764b-4b20-8203-064a7d8d9d21"
      },
      "execution_count": 8,
      "outputs": [
        {
          "output_type": "stream",
          "name": "stdout",
          "text": [
            "Get:1 https://cloud.r-project.org/bin/linux/ubuntu jammy-cran40/ InRelease [3,626 B]\n",
            "Get:2 https://developer.download.nvidia.com/compute/cuda/repos/ubuntu2204/x86_64  InRelease [1,581 B]\n",
            "Get:3 https://developer.download.nvidia.com/compute/cuda/repos/ubuntu2204/x86_64  Packages [1,188 kB]\n",
            "Get:4 http://security.ubuntu.com/ubuntu jammy-security InRelease [129 kB]\n",
            "Hit:5 http://archive.ubuntu.com/ubuntu jammy InRelease\n",
            "Get:6 http://archive.ubuntu.com/ubuntu jammy-updates InRelease [128 kB]\n",
            "Get:7 https://r2u.stat.illinois.edu/ubuntu jammy InRelease [6,555 B]\n",
            "Get:8 https://ppa.launchpadcontent.net/deadsnakes/ppa/ubuntu jammy InRelease [18.1 kB]\n",
            "Get:9 https://r2u.stat.illinois.edu/ubuntu jammy/main all Packages [8,523 kB]\n",
            "Hit:10 https://ppa.launchpadcontent.net/graphics-drivers/ppa/ubuntu jammy InRelease\n",
            "Hit:11 https://ppa.launchpadcontent.net/ubuntugis/ppa/ubuntu jammy InRelease\n",
            "Get:12 http://security.ubuntu.com/ubuntu jammy-security/universe amd64 Packages [1,224 kB]\n",
            "Get:13 http://archive.ubuntu.com/ubuntu jammy-backports InRelease [127 kB]\n",
            "Get:14 https://ppa.launchpadcontent.net/deadsnakes/ppa/ubuntu jammy/main amd64 Packages [35.0 kB]\n",
            "Get:15 http://archive.ubuntu.com/ubuntu jammy-updates/universe amd64 Packages [1,513 kB]\n",
            "Get:16 http://security.ubuntu.com/ubuntu jammy-security/main amd64 Packages [2,454 kB]\n",
            "Get:17 http://archive.ubuntu.com/ubuntu jammy-updates/main amd64 Packages [2,738 kB]\n",
            "Get:18 https://r2u.stat.illinois.edu/ubuntu jammy/main amd64 Packages [2,625 kB]\n",
            "Fetched 20.7 MB in 4s (5,175 kB/s)\n",
            "Reading package lists... Done\n",
            "W: Skipping acquire of configured file 'main/source/Sources' as repository 'https://r2u.stat.illinois.edu/ubuntu jammy InRelease' does not seem to provide it (sources.list entry misspelt?)\n",
            "Reading package lists... Done\n",
            "Building dependency tree... Done\n",
            "Reading state information... Done\n",
            "The following NEW packages will be installed:\n",
            "  poppler-utils\n",
            "0 upgraded, 1 newly installed, 0 to remove and 52 not upgraded.\n",
            "Need to get 186 kB of archives.\n",
            "After this operation, 696 kB of additional disk space will be used.\n",
            "Get:1 http://archive.ubuntu.com/ubuntu jammy-updates/main amd64 poppler-utils amd64 22.02.0-2ubuntu0.5 [186 kB]\n",
            "Fetched 186 kB in 1s (148 kB/s)\n",
            "Selecting previously unselected package poppler-utils.\n",
            "(Reading database ... 123632 files and directories currently installed.)\n",
            "Preparing to unpack .../poppler-utils_22.02.0-2ubuntu0.5_amd64.deb ...\n",
            "Unpacking poppler-utils (22.02.0-2ubuntu0.5) ...\n",
            "Setting up poppler-utils (22.02.0-2ubuntu0.5) ...\n",
            "Processing triggers for man-db (2.10.2-1) ...\n"
          ]
        }
      ]
    },
    {
      "cell_type": "code",
      "source": [
        "pip install PyMuPDF python-dotenv groq Pillow"
      ],
      "metadata": {
        "colab": {
          "base_uri": "https://localhost:8080/"
        },
        "id": "Bk8NU4H7oVOB",
        "outputId": "1f6c4f48-9a6f-48f5-9575-e1a95f49c912"
      },
      "execution_count": 9,
      "outputs": [
        {
          "output_type": "stream",
          "name": "stdout",
          "text": [
            "Collecting PyMuPDF\n",
            "  Downloading PyMuPDF-1.24.14-cp39-abi3-manylinux2014_x86_64.manylinux_2_17_x86_64.whl.metadata (3.4 kB)\n",
            "Requirement already satisfied: python-dotenv in /usr/local/lib/python3.10/dist-packages (1.0.1)\n",
            "Requirement already satisfied: groq in /usr/local/lib/python3.10/dist-packages (0.13.0)\n",
            "Requirement already satisfied: Pillow in /usr/local/lib/python3.10/dist-packages (11.0.0)\n",
            "Requirement already satisfied: anyio<5,>=3.5.0 in /usr/local/lib/python3.10/dist-packages (from groq) (3.7.1)\n",
            "Requirement already satisfied: distro<2,>=1.7.0 in /usr/local/lib/python3.10/dist-packages (from groq) (1.9.0)\n",
            "Requirement already satisfied: httpx<1,>=0.23.0 in /usr/local/lib/python3.10/dist-packages (from groq) (0.27.2)\n",
            "Requirement already satisfied: pydantic<3,>=1.9.0 in /usr/local/lib/python3.10/dist-packages (from groq) (2.9.2)\n",
            "Requirement already satisfied: sniffio in /usr/local/lib/python3.10/dist-packages (from groq) (1.3.1)\n",
            "Requirement already satisfied: typing-extensions<5,>=4.7 in /usr/local/lib/python3.10/dist-packages (from groq) (4.12.2)\n",
            "Requirement already satisfied: idna>=2.8 in /usr/local/lib/python3.10/dist-packages (from anyio<5,>=3.5.0->groq) (3.10)\n",
            "Requirement already satisfied: exceptiongroup in /usr/local/lib/python3.10/dist-packages (from anyio<5,>=3.5.0->groq) (1.2.2)\n",
            "Requirement already satisfied: certifi in /usr/local/lib/python3.10/dist-packages (from httpx<1,>=0.23.0->groq) (2024.8.30)\n",
            "Requirement already satisfied: httpcore==1.* in /usr/local/lib/python3.10/dist-packages (from httpx<1,>=0.23.0->groq) (1.0.7)\n",
            "Requirement already satisfied: h11<0.15,>=0.13 in /usr/local/lib/python3.10/dist-packages (from httpcore==1.*->httpx<1,>=0.23.0->groq) (0.14.0)\n",
            "Requirement already satisfied: annotated-types>=0.6.0 in /usr/local/lib/python3.10/dist-packages (from pydantic<3,>=1.9.0->groq) (0.7.0)\n",
            "Requirement already satisfied: pydantic-core==2.23.4 in /usr/local/lib/python3.10/dist-packages (from pydantic<3,>=1.9.0->groq) (2.23.4)\n",
            "Downloading PyMuPDF-1.24.14-cp39-abi3-manylinux2014_x86_64.manylinux_2_17_x86_64.whl (19.8 MB)\n",
            "\u001b[2K   \u001b[90m━━━━━━━━━━━━━━━━━━━━━━━━━━━━━━━━━━━━━━━━\u001b[0m \u001b[32m19.8/19.8 MB\u001b[0m \u001b[31m75.0 MB/s\u001b[0m eta \u001b[36m0:00:00\u001b[0m\n",
            "\u001b[?25hInstalling collected packages: PyMuPDF\n",
            "Successfully installed PyMuPDF-1.24.14\n"
          ]
        }
      ]
    },
    {
      "cell_type": "code",
      "source": [
        "import base64\n",
        "import pdf2image\n",
        "import os\n",
        "from dotenv import load_dotenv\n",
        "from groq import Groq\n",
        "\n",
        "load_dotenv()\n",
        "\n",
        "class PDFOCRProcessor:\n",
        "    def __init__(self, model_name=\"llama-3.2-90b-vision-preview\"):\n",
        "        self.model_name = model_name\n",
        "        self.client = Groq(api_key='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')  # Replace with your actual API key\n",
        "\n",
        "    def encode_image(self, image):\n",
        "        \"\"\"\n",
        "        Encode image to base64\n",
        "\n",
        "        Args:\n",
        "            image (PIL.Image): Image to encode\n",
        "\n",
        "        Returns:\n",
        "            str: Base64 encoded image\n",
        "        \"\"\"\n",
        "        # Convert PIL Image to bytes\n",
        "        img_byte_arr = os.path.join(image)\n",
        "        with open(img_byte_arr, \"rb\") as image_file:\n",
        "            return base64.b64encode(image_file.read()).decode(\"utf-8\")\n",
        "\n",
        "    def perform_ocr(self, image_base64, temperature=1, max_tokens=1024, top_p=1):\n",
        "        \"\"\"\n",
        "        Perform OCR on image using Llama 3.2 Vision\n",
        "\n",
        "        Args:\n",
        "            image_base64 (str): Base64 encoded image\n",
        "            temperature (float): Sampling temperature\n",
        "            max_tokens (int): Maximum tokens to generate\n",
        "            top_p (float): Nucleus sampling parameter\n",
        "\n",
        "        Returns:\n",
        "            str: Extracted text from image\n",
        "        \"\"\"\n",
        "        image_url = f\"data:image/jpeg;base64,{image_base64}\"\n",
        "\n",
        "        prompt_text = (\n",
        "            \"You are an OCR assistant tasked with analyzing the provided image. \"\n",
        "            \"Extract all visible text as accurately as possible. \"\n",
        "            \"Provide only the transcription without any additional comments.\"\n",
        "        )\n",
        "\n",
        "        messages = [\n",
        "            {\n",
        "                \"role\": \"user\",\n",
        "                \"content\": [\n",
        "                    {\"type\": \"text\", \"text\": prompt_text},\n",
        "                    {\"type\": \"image_url\", \"image_url\": {\"url\": image_url}},\n",
        "                ],\n",
        "            }\n",
        "        ]\n",
        "\n",
        "        completion = self.client.chat.completions.create(\n",
        "            model=self.model_name,\n",
        "            messages=messages,\n",
        "            temperature=temperature,\n",
        "            max_tokens=max_tokens,\n",
        "            top_p=top_p,\n",
        "            stream=False,\n",
        "            stop=None,\n",
        "        )\n",
        "\n",
        "        return completion.choices[0].message.content\n",
        "\n",
        "    def process_pdf(self, pdf_path, output_dir='ocr_output'):\n",
        "        \"\"\"\n",
        "        Process each page of PDF through OCR\n",
        "\n",
        "        Args:\n",
        "            pdf_path (str): Path to PDF file\n",
        "            output_dir (str): Directory to save OCR results\n",
        "\n",
        "        Returns:\n",
        "            list: OCR results for each page\n",
        "        \"\"\"\n",
        "        # Create output directory if it doesn't exist\n",
        "        os.makedirs(output_dir, exist_ok=True)\n",
        "\n",
        "        # Convert PDF to images\n",
        "        images = pdf2image.convert_from_path(pdf_path)\n",
        "\n",
        "        # Store OCR results\n",
        "        ocr_results = []\n",
        "\n",
        "        # Process each page\n",
        "        for page_num, image in enumerate(images, 1):\n",
        "            # Save temporary image\n",
        "            temp_image_path = os.path.join(output_dir, f'page_{page_num}.jpg')\n",
        "            image.save(temp_image_path, 'JPEG')\n",
        "\n",
        "            # Encode image\n",
        "            encoded_image = self.encode_image(temp_image_path)\n",
        "\n",
        "            # Perform OCR\n",
        "            page_text = self.perform_ocr(encoded_image)\n",
        "\n",
        "            # Save page text\n",
        "            text_output_path = os.path.join(output_dir, f'page_{page_num}_text.txt')\n",
        "            with open(text_output_path, 'w', encoding='utf-8') as f:\n",
        "                f.write(page_text)\n",
        "\n",
        "            # Store and print result\n",
        "            print(f\"Page {page_num} OCR Result:\")\n",
        "            print(page_text)\n",
        "            print(\"-\" * 50)\n",
        "\n",
        "            ocr_results.append(page_text)\n",
        "\n",
        "            # Optional: Remove temporary image\n",
        "            os.remove(temp_image_path)\n",
        "\n",
        "        return ocr_results\n",
        "\n",
        "def main():\n",
        "    # Path to your PDF\n",
        "    pdf_path = \"/content/devops_pdf_data.pdf\"\n",
        "\n",
        "    # Initialize OCR Processor\n",
        "    ocr_processor = PDFOCRProcessor()\n",
        "\n",
        "    # Process PDF\n",
        "    ocr_results = ocr_processor.process_pdf(pdf_path)\n",
        "\n",
        "    # Optional: Combine all results into single file\n",
        "    with open('full_ocr_results.txt', 'w', encoding='utf-8') as f:\n",
        "        for page_num, result in enumerate(ocr_results, 1):\n",
        "            f.write(f\"--- Page {page_num} ---\\n\")\n",
        "            f.write(result + \"\\n\\n\")\n",
        "\n",
        "if __name__ == \"__main__\":\n",
        "    main()"
      ],
      "metadata": {
        "colab": {
          "base_uri": "https://localhost:8080/"
        },
        "id": "IdRiTDzUnFBZ",
        "outputId": "d79e806a-2cf9-4a55-fa62-5f04ded07de9"
      },
      "execution_count": 10,
      "outputs": [
        {
          "output_type": "stream",
          "name": "stdout",
          "text": [
            "Page 1 OCR Result:\n",
            "**PDC Assignment 2**\n",
            "\n",
            "H-Prem 228-4161 855-50\n",
            "\n",
            "(01) Blocked reports are sent to data nodes to NameNode periodically. Ensures that by the name node has an up-to-date view of block distribution across the cluster.\n",
            "\n",
            "> Helps detect block loss or corruption\n",
            "\n",
            "Headblocks are sent periodically by datanodes to the NameNode to indicate their health and availability.\n",
            "\n",
            "> used to detect failed datanodes quickly\n",
            "\n",
            "(02 1) Direct divides the file into blocks and requests NameNode to select Datanodes for block replication\n",
            "\n",
            "(02 2) A pipeline of datanodes is formed with data flowing from direct to last datanode and then forwarded to next one.\n",
            "\n",
            "(03) Each Datanode acknowledges when it receives data ensuring reliable transfer.\n",
            "\n",
            "**Checkpoint Node:**\n",
            "\n",
            "- Periodically renames fsimage into a new checkpoint\n",
            "\n",
            "- This reduces the risk of losing remaining recent times and potential data loss.\n",
            "\n",
            "**Backup Node:**\n",
            "\n",
            "- Maintains a real-time synchronized namespace image with the NameNode.\n",
            "--------------------------------------------------\n",
            "Page 2 OCR Result:\n",
            "The provided image contains a handwritten note on a white background, featuring the text: \"CamsScanner\" in the bottom-right corner. The handwritten note is written in blue ink and appears to be a summary of an article or text about replication strategies in data loss scenarios.\n",
            "\n",
            "The note is divided into three sections: \"Rock Aways\", \"Alternate Strategy\", and \"MapReduce\". Each section contains several bullet points with handwritten text, discussing various replication strategies and their advantages and disadvantages.\n",
            "\n",
            "The handwriting is legible, but some words or phrases may be difficult to decipher due to the informal nature of the handwriting. Overall, the image appears to be a personal note taken by someone who is interested in learning about replication strategies for data loss prevention.\n",
            "--------------------------------------------------\n",
            "Page 3 OCR Result:\n",
            "The image appears to be a scanned or photographed page of handwritten notes, with the majority of the text being illegible due to poor image quality. However, some sections can be deciphered:\n",
            "\n",
            "1. The top section contains the word \"Strategies\" followed by several bullet points, but most of the text is unclear.\n",
            "2. The middle section has the heading \"(B6) Shuffle & Sort Phase,\" which is legible. Below this, there are steps numbered from 1 to 5, but the text within these steps is largely indistinguishable.\n",
            "3. Further down, there's a section labeled \"(C1) Combosers,\" which seems to involve data processing or handling. The text here is also mostly unreadable.\n",
            "4. At the bottom of the page, there's a section titled \"MAP RETAKE PROGRAM RESULTS.\" This section includes some code or command lines that are partially legible but lack context.\n",
            "\n",
            "Due to the poor quality of the image, only fragments of text are legible, making it challenging to provide a comprehensive transcription.\n",
            "--------------------------------------------------\n",
            "Page 4 OCR Result:\n",
            "void reduce (char * key, float * values, int n) {\n",
            "    float total;\n",
            "    int nout = 0;\n",
            "    printf(\"1+2 =f\", f);\n",
            "    key, values[n];\n",
            "\n",
            "    void map (char * key, float * value) {\n",
            "        *value = [n50];\n",
            "        float grade;\n",
            "        float (line, 's', \"fs\", \"fes\", \"chod, \"qoude);\n",
            "        printf(\"1+2 =fs\", f, third, grade):\n",
            "\n",
            "        void reduce (char * key, float * values, int n) {\n",
            "            float total = 0;\n",
            "            for (int i = 0; i <n; i++) {\n",
            "                total += values[i];\n",
            "                if(total avg (total/n; \n",
            "            printf (-i+1, avg);\n",
            "        );\n",
            "\n",
            "        void map (char * fire) {\n",
            "            printf(line, \");\n",
            "            wste(10m);\n",
            "            if (lolin f0) {\n",
            "                printf (\"4e-4 '3, loken);\n",
            "            }\n",
            "            lolexn = Sitrak (NULL, \");\n",
            "}\n",
            "--------------------------------------------------\n",
            "Page 5 OCR Result:\n",
            "The provided image appears to be a piece of paper with handwritten text. The text is written in black ink and contains a mix of words, symbols, and mathematical equations.\n",
            "\n",
            "**Visible Text:**\n",
            "\n",
            "void map(char * line) {\n",
            "char customer[10], product[10];\n",
            "int quantity;\n",
            "scanf(\"%s,%c,%s,%c,d\", customer, product, & quantity) \\\n",
            "printf (\"%s, %s, %d$\\n\", customer, product, quantity);\n",
            "\n",
            "void reduce(char * key, char * value[3] {\n",
            "char * key;\n",
            "for (int i = 0; i <n; i++) {\n",
            "printf(\"%S\", value[i]);\n",
            "}\n",
            "\n",
            "void map(char * line) {\n",
            "char city [10];\n",
            "float temp;\n",
            "scanf(\"\");\n",
            "printf(\"%s, %.5f\", city, temp);\n",
            "\n",
            "void reduce( struct key, struct values, int n) {\n",
            "printf(\"%.0f\\n\", values.r);\n",
            "}\n",
            "--------------------------------------------------\n"
          ]
        }
      ]
    }
  ]
}